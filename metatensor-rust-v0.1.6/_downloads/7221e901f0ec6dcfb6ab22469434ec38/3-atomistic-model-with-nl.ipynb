{
  "cells": [
    {
      "cell_type": "markdown",
      "metadata": {},
      "source": [
        "\n\n# Creating models that use neighbor lists\n\n.. py:currentmodule:: metatensor.torch.atomistic\n\nThis tutorial demonstrates how to create an atomistic model that requires a neighbor\nlist, and use it to run MD simulations. This tutorial assumes knowledge of how to export\nan atomistic model and run it with the ASE calculator. If you haven't read the\ncorresponding examples, please refer to `atomistic-tutorial-export` and\n`atomistic-tutorial-md`.\n\nAs depicted below, one or more neighbor lists will be requested by the model, computed\nby the simulation engine and attached to the :py:class:`Systems`. The\n:py:class:`Systems` with the neighbor list is then passed to the model.\n\n.. figure:: ../../../static/images/nl-dataflow.*\n    :width: 600px\n    :align: center\n\n    The simulation engine computes the neighbor lists for the model, which then uses\n    them to predict outputs. This figure is a subset of the figure in\n    `model-dataflow`.\n\nAs example, we will run a 1 ps short molecular dynamics simulation of 125 already\nequilibrated liquid argon atoms interacting via Lennard-Jones within a cutoff of 5 \u00c5.\nThe system will be simulated at a temperature of 94.4\u00a0K and a mass density of\n1.374\u00a0g/cm\u00b3. In the end, we will obtain the pair-correlation function $g(r)$ of\nthe liquid.\n"
      ]
    },
    {
      "cell_type": "code",
      "execution_count": null,
      "metadata": {
        "collapsed": false
      },
      "outputs": [],
      "source": [
        "from typing import Dict, List, Optional\n\n# tools for analysis\nimport ase.geometry.rdf\n\n# tools to run the simulation and visualization\nimport ase.io\nimport ase.md\nimport ase.neighborlist\nimport ase.visualize.plot\nimport chemiscope\nimport matplotlib.pyplot as plt\n\n# the usual suspects\nimport numpy as np\nimport torch\n\nfrom metatensor.torch import Labels, TensorBlock, TensorMap\nfrom metatensor.torch.atomistic import (\n    MetatensorAtomisticModel,\n    ModelCapabilities,\n    ModelMetadata,\n    ModelOutput,\n    NeighborListOptions,\n    System,\n)\n\n# Integration with ASE calculator for metatensor atomistic models\nfrom metatensor.torch.atomistic.ase_calculator import MetatensorCalculator"
      ]
    },
    {
      "cell_type": "markdown",
      "metadata": {},
      "source": [
        "## The simulation system\n\nWe load the pre-equilibrated :download:`liquid argon system from a\nfile<liquid-argon.xyz>`.\n\n"
      ]
    },
    {
      "cell_type": "code",
      "execution_count": null,
      "metadata": {
        "collapsed": false
      },
      "outputs": [],
      "source": [
        "atoms = ase.io.read(\"liquid-argon.xyz\")"
      ]
    },
    {
      "cell_type": "markdown",
      "metadata": {},
      "source": [
        "The system was generated based on a 5x5x5 supercell of a simple cubic (sc) cell with a\nlattice constant of a = 3.641\u00a0\u00c5. After initialization of the velocities, the system\nwas run for 100 ps with the same parameters we will use below and the final state can\nbe visualized as\n\n"
      ]
    },
    {
      "cell_type": "code",
      "execution_count": null,
      "metadata": {
        "collapsed": false
      },
      "outputs": [],
      "source": [
        "ax = ase.visualize.plot.plot_atoms(atoms, radii=0.5)\nax.set_xlabel(\"$\\\\AA$\")\nax.set_ylabel(\"$\\\\AA$\")\nplt.show()"
      ]
    },
    {
      "cell_type": "markdown",
      "metadata": {},
      "source": [
        "The system already has velocities and the expected density of 1.374 g/cm\u00b3.\n\n"
      ]
    },
    {
      "cell_type": "code",
      "execution_count": null,
      "metadata": {
        "collapsed": false
      },
      "outputs": [],
      "source": [
        "u_to_g = 1.66053906660e-24\n\u00c5_to_cm = 1e-08\n\nmass_density = sum(atoms.get_masses()) / atoms.cell.volume * u_to_g / \u00c5_to_cm**3\n\nprint(f\"\u03c1_m = {mass_density:.3f} g/cm\u00b3\")"
      ]
    },
    {
      "cell_type": "markdown",
      "metadata": {},
      "source": [
        "## Metatensor's neighbor lists\n\n<div class=\"alert alert-info\"><h4>Note</h4><p>The steps below of creating a neighbor list, wrapping it inside a\n  :py:class:`TensorBlock <metatensor.torch.TensorBlock>` and attaching it to a system\n  will be done by the simulation engine and must not be handled by the model\n  developer. How to request a neighbor list will be presented below when the actual\n  model is defined.</p></div>\n\nBefore implementing the actual model, let's take a look at how metatensor stores\nneighbor lists inside a :py:class:`System` object. We start by computing the neighbor\nlist for our argon systen using ASE.\n\n"
      ]
    },
    {
      "cell_type": "code",
      "execution_count": null,
      "metadata": {
        "collapsed": false
      },
      "outputs": [],
      "source": [
        "i, j, S, D = ase.neighborlist.neighbor_list(quantities=\"ijSD\", a=atoms, cutoff=5.0)"
      ]
    },
    {
      "cell_type": "markdown",
      "metadata": {},
      "source": [
        "The :py:func:`ase.neighborlist.neighbor_list` function returns the neighbor indices:\nquantities ``\"i\"`` and ``\"j\"``, the neighbor shifts ``\"S\"``, and the distance\nvectors ``\"D\"``. We now stack these together and convert them into the suitable\ntypes.\n\n"
      ]
    },
    {
      "cell_type": "code",
      "execution_count": null,
      "metadata": {
        "collapsed": false
      },
      "outputs": [],
      "source": [
        "i = torch.from_numpy(i.astype(int))\nj = torch.from_numpy(j.astype(int))\nneighbor_indices = torch.stack([i, j], dim=1)\nneighbor_shifts = torch.from_numpy(S.astype(int))\n\nprint(\"neighbor_indices:\", neighbor_indices)\nprint(\"neighbor_shifts:\", neighbor_shifts)"
      ]
    },
    {
      "cell_type": "markdown",
      "metadata": {},
      "source": [
        "### Creating a neighbor list\n\nWe now assemble the neighbor list following metatensor conventions. First, we create\nthe ``samples`` metadata for the :py:class:`TensorBlock\n<metatensor.torch.TensorBlock>` which will hold the neighbor list.\n\n"
      ]
    },
    {
      "cell_type": "code",
      "execution_count": null,
      "metadata": {
        "collapsed": false
      },
      "outputs": [],
      "source": [
        "sample_values = torch.hstack([neighbor_indices, neighbor_shifts])\nsamples = Labels(\n    names=[\n        \"first_atom\",\n        \"second_atom\",\n        \"cell_shift_a\",\n        \"cell_shift_b\",\n        \"cell_shift_c\",\n    ],\n    values=sample_values,\n)\n\nneighbors = TensorBlock(\n    values=torch.from_numpy(D).reshape(-1, 3, 1),\n    samples=samples,\n    components=[Labels.range(\"xyz\", 3)],\n    properties=Labels.range(\"distance\", 1),\n)\n\nprint(neighbors)"
      ]
    },
    {
      "cell_type": "markdown",
      "metadata": {},
      "source": [
        "The data and metadata inside the ``neighbors`` object do not contain information about\nthe ``cutoff`` and whether this is a full or half neighbor list. To account for this,\nmetatensor neighbor lists are always stored together with\n:py:class:`NeighborListOptions`. For our system, these options can be saved as\n\n"
      ]
    },
    {
      "cell_type": "code",
      "execution_count": null,
      "metadata": {
        "collapsed": false
      },
      "outputs": [],
      "source": [
        "options = NeighborListOptions(cutoff=5.0, full_list=True)"
      ]
    },
    {
      "cell_type": "markdown",
      "metadata": {},
      "source": [
        "We set ``full_list=True`` because ASE computes a \u201cfull\u201d list (as opposed to a half\nlist) where each `i, j` pair appears twice, stored once as `i, j` and once as `j, i`.\n\nNow we can, in principle, attach the neighbor list to a metatensor system using\n\n.. code:: python\n\n  system.add_neighbor_list(options=options, neighbors=neighbors)\n\n### Accessing data in neighbor lists\n\nNow that we have a neighbor list, we can access the data and metadata. First, we can\nextract the ``distances`` vectors between the neighboring pairs within the cutoff,\nwhich we can then use in our models.\n\n"
      ]
    },
    {
      "cell_type": "code",
      "execution_count": null,
      "metadata": {
        "collapsed": false
      },
      "outputs": [],
      "source": [
        "distances = neighbors.values\n\nprint(distances.shape)"
      ]
    },
    {
      "cell_type": "markdown",
      "metadata": {},
      "source": [
        "We can also get the metadata values like *neighbor indices* or the *neighbor\nshifts* using the :py:meth:`Labels.column <metatensor.torch.Labels.column>` and\n:py:meth:`Labels.view <metatensor.torch.Labels.view>` methods.\n\n"
      ]
    },
    {
      "cell_type": "code",
      "execution_count": null,
      "metadata": {
        "collapsed": false
      },
      "outputs": [],
      "source": [
        "i = neighbors.samples.column(\"first_atom\")\nj = neighbors.samples.column(\"second_atom\")\n\nneighbor_indices = neighbors.samples.view([\"first_atom\", \"second_atom\"]).values\nneighbor_shifts = neighbors.samples.view(\n    [\"cell_shift_a\", \"cell_shift_b\", \"cell_shift_c\"]\n).values"
      ]
    },
    {
      "cell_type": "markdown",
      "metadata": {},
      "source": [
        "As mentioned above, in practical use cases you will not have to compute neighbor lists\nyourself, but instead the simulation engine will compute it for you and you'll just\nneed to get the right list for a given :py:class:`System` using the corresponding\n``options``:\n\n.. code:: python\n\n  neighbors = system.get_neighbor_list(options)\n\nYou can also loop over all attached lists of a :py:class:`System` using\n:py:meth:`System.known_neighbor_lists` to find a suitable one based on\n:py:class:`NeighborListOptions` attributes like ``cutoff``, ``full_list``, and\n``requestors``.\n\n"
      ]
    },
    {
      "cell_type": "markdown",
      "metadata": {},
      "source": [
        "## A Lennard-Jones model\n\nNow that we know how the neighbor data is stored and can be accessed, and know how to\nuse it we can construct our Lennard-Jones model with a fixed cutoff. The Lennard-Jones\npotential is a mathematical basis to approximate the interaction between a pair of\nneutral atoms or molecules. It is given by the equation:\n\n\\begin{align}V(r) = 4\\epsilon \\left[ \\left( \\frac{\\sigma}{r} \\right)^{12} - \\left(\n    \\frac{\\sigma}{r} \\right)^{6} \\right]\\end{align}\n\nwhere $\\epsilon$ is the depth of the potential well, $\\sigma$ is the\nfinite distance at which the inter-particle potential is zero, and $r$ is the\ndistance between the particles. The 12-6 form is chosen because the $r^{12}$\nterm approximates the Pauli repulsion at short ranges, while the $r^6$ term\nrepresents the attractive van der Waals forces. The $r^{12}$ is chosen because\nit is just the *square* of the $r^6$ and therefore allows fast evaluation.\n\nA Lennard-Jones potential is well-suited for argon because it accurately represents\nthe van der Waals forces that dominate the interactions between argon atoms, as for\nall noble gases. This potential was used in one of the first MD simulations:\n\"Correlation in the motions of atoms in liquid Argon\" by A. Rahman ([Phys. Rev. 136,\nA405-A411, 1964](https://link.aps.org/doi/10.1103/PhysRev.136.A405)), which\ndemonstrated the effectiveness of continuous potentials in molecular dynamics.\n\nThe model below is a simplified version of a [more complex Lennard-Jones model](https://github.com/Luthaf/metatensor-lj-test/blob/main/src/metatensor_lj_test/pure.py).\nThe linked version also implements ``per_atom`` energies as well as atom selection\nusing the ``selected_atoms`` parameter of the ``forward()`` method. In this model, we\nshift the energy by its value at the ``cutoff``. This will break the conservativeness\nof the potential, which is unproblematic in here because we use a large cutoff and\ntherefore the potential already almost decayed to zero. For more sophisticated methods\nlike a polynomial switching potential like XPLOR, we refer to the literature.\n\n"
      ]
    },
    {
      "cell_type": "code",
      "execution_count": null,
      "metadata": {
        "collapsed": false
      },
      "outputs": [],
      "source": [
        "class LennardJonesModel(torch.nn.Module):\n    \"\"\"Implementation of a single particle type Lennard-Jones potential.\"\"\"\n\n    def __init__(self, cutoff, sigma, epsilon):\n        super().__init__()\n\n        # define neighbor list options to request the right set of neighbors\n        self._nl_options = NeighborListOptions(cutoff=cutoff, full_list=False)\n\n        self._sigma = sigma\n        self._epsilon = epsilon\n\n        # shift the energy to 0 at the cutoff\n        self._shift = 4 * epsilon * ((sigma / cutoff) ** 12 - (sigma / cutoff) ** 6)\n\n    def requested_neighbor_lists(self) -> List[NeighborListOptions]:\n        \"\"\"Method declaring which neighbors lists this model desires.\n\n        The method is required to tell an simulation engine (here ase) to compute and\n        attach the requested neighbor list to a system which will be passed to the\n        ``forward`` method defined below\n\n        Note that a model can request as many neighbor lists as it wants\n        \"\"\"\n        return [self._nl_options]\n\n    def forward(\n        self,\n        systems: List[System],\n        outputs: Dict[str, ModelOutput],\n        selected_atoms: Optional[Labels],\n    ) -> Dict[str, TensorMap]:\n        if list(outputs.keys()) != [\"energy\"]:\n            raise ValueError(\n                \"this model can only compute 'energy', but `outputs` contains other \"\n                f\"keys: {', '.join(outputs.keys())}\"\n            )\n\n        # we don't want to worry about selected_atoms yet\n        if selected_atoms is not None:\n            raise NotImplementedError(\"selected_atoms is not implemented\")\n\n        if outputs[\"energy\"].per_atom:\n            raise NotImplementedError(\"per atom energy is not implemented\")\n\n        # Initialize device so we can access it outside of the for loop\n        device = torch.device(\"cpu\")\n        for system in systems:\n            device = system.device\n            neighbors = system.get_neighbor_list(self._nl_options)\n            distances = neighbors.values.reshape(-1, 3)\n\n            sigma_r_6 = (self._sigma / torch.linalg.vector_norm(distances, dim=1)) ** 6\n            sigma_r_12 = sigma_r_6 * sigma_r_6\n            e = 4.0 * self._epsilon * (sigma_r_12 - sigma_r_6) - self._shift\n\n        samples = Labels(\n            [\"system\"], torch.arange(len(systems), device=device).reshape(-1, 1)\n        )\n\n        block = TensorBlock(\n            values=torch.sum(e).reshape(-1, 1),\n            samples=samples,\n            components=torch.jit.annotate(List[Labels], []),\n            properties=Labels([\"energy\"], torch.tensor([[0]], device=device)),\n        )\n        return {\n            \"energy\": TensorMap(\n                Labels(\"_\", torch.tensor([[0]], device=device)), [block]\n            ),\n        }"
      ]
    },
    {
      "cell_type": "markdown",
      "metadata": {},
      "source": [
        "In the model above, in addition to the required ``__init__()`` and\n:py:meth:`ModelInterface.forward` methods, we also implemented the\n:py:meth:`ModelInterface.requested_neighbor_lists` method, which declares the neighbor\nlist our model requires.\n\n## Running the simulation\n\nWe now define and wrap the model, using the initial positions and the Lennard-Jones\nparameters taken from [M\u00e9ndez-Berm\u00fadez et.al, Phys. Commun. 2022](https://dx.doi.org/10.1088/2399-6528/ac62a2).\n\n<div class=\"alert alert-info\"><h4>Note</h4><p>The **units** of the Lennard Jones parameters from the reference are in\n  ``\"Angstrom\"`` and ``\"kJ/mol\"``. We declare the (energy) ``unit`` and\n  ``length_unit`` accordiningly when defining the :py:class:`ModelCapabilities` object\n  below. From then on, metatensor is taking care of the correct unit conversion when\n  the energies and forces are passed to the simulation engine.</p></div>\n\n"
      ]
    },
    {
      "cell_type": "code",
      "execution_count": null,
      "metadata": {
        "collapsed": false
      },
      "outputs": [],
      "source": [
        "sigma = 3.3646  # \u00c5\nepsilon = 0.94191  # kJ / mol\n\nmodel = LennardJonesModel(\n    cutoff=5.0,\n    sigma=sigma,\n    epsilon=epsilon,\n)\n\ncapabilities = ModelCapabilities(\n    outputs={\n        \"energy\": ModelOutput(quantity=\"energy\", unit=\"kJ/mol\", per_atom=False),\n    },\n    atomic_types=[18],\n    interaction_range=5.0,\n    length_unit=\"Angstrom\",\n    supported_devices=[\"cpu\"],\n    dtype=\"float32\",\n)\n\nwrapper = MetatensorAtomisticModel(model.eval(), ModelMetadata(), capabilities)\n\n# Use the wrapped model as the calculator for these atoms\natoms.calc = MetatensorCalculator(wrapper)"
      ]
    },
    {
      "cell_type": "markdown",
      "metadata": {},
      "source": [
        "We'll run the simulation in the constant volume/temperature thermodynamic ensemble\n(NVT or Canonical ensemble), using a Langevin thermostat for time integration. Please\nrefer to the corresponding documentation (:py:class:`ase.md.langevin.Langevin`) for\nmore information!\n\n"
      ]
    },
    {
      "cell_type": "code",
      "execution_count": null,
      "metadata": {
        "collapsed": false
      },
      "outputs": [],
      "source": [
        "integrator = ase.md.Langevin(\n    atoms,\n    timestep=2.0 * ase.units.fs,\n    temperature_K=94.4,\n    friction=0.1 / ase.units.fs,\n)\n\ntrajectory = []\n\nfor _ in range(50):\n    # run a single simulation for 10 steps\n    integrator.run(10)\n\n    # collect data about the simulation\n    trajectory.append(atoms.copy())"
      ]
    },
    {
      "cell_type": "markdown",
      "metadata": {},
      "source": [
        "We can use [chemiscope](https://chemiscope.org) to visualize the trajectory\n\n"
      ]
    },
    {
      "cell_type": "code",
      "execution_count": null,
      "metadata": {
        "collapsed": false
      },
      "outputs": [],
      "source": [
        "viewer_settings = {\"bonds\": False, \"playbackDelay\": 70}\nchemiscope.show(trajectory, mode=\"structure\", settings={\"structure\": [viewer_settings]})"
      ]
    },
    {
      "cell_type": "markdown",
      "metadata": {},
      "source": [
        "We finally compute and plot the avaregae pair-correlation function $g(r)$ of the\nrecorded ``trajectory``.\n\n"
      ]
    },
    {
      "cell_type": "code",
      "execution_count": null,
      "metadata": {
        "collapsed": false
      },
      "outputs": [],
      "source": [
        "rdf = []\nfor atoms in trajectory:\n    rdf_step, rdf_dists = ase.geometry.rdf.get_rdf(atoms, rmax=9.0, nbins=100)\n    rdf.append(rdf_step)\n\nfig, ax = plt.subplots()\n\nax.plot(rdf_dists, np.mean(rdf, axis=0))\n\nax.set_xlabel(\"distance / \u00c5\")\nax.set_ylabel(\"$g(r)$\")\nax.minorticks_on()\n\nfig.tight_layout()\nfig.show()"
      ]
    },
    {
      "cell_type": "markdown",
      "metadata": {},
      "source": [
        "The pair-correlation function shows the usual structure for a liquid and we find the\nexpected first narrow peak at 3.7 \u00c5 and a second broader peak at 7.0 \u00c5.\n\n"
      ]
    }
  ],
  "metadata": {
    "kernelspec": {
      "display_name": "Python 3",
      "language": "python",
      "name": "python3"
    },
    "language_info": {
      "codemirror_mode": {
        "name": "ipython",
        "version": 3
      },
      "file_extension": ".py",
      "mimetype": "text/x-python",
      "name": "python",
      "nbconvert_exporter": "python",
      "pygments_lexer": "ipython3",
      "version": "3.12.5"
    }
  },
  "nbformat": 4,
  "nbformat_minor": 0
}