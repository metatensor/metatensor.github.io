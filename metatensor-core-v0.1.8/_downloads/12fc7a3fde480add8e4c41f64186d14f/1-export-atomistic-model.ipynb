{
  "cells": [
    {
      "cell_type": "markdown",
      "metadata": {},
      "source": [
        "\n\n# Exporting a model\n\n.. py:currentmodule:: metatensor.torch.atomistic\n\nThis tutorial shows how to define and export an atomistic model following metatensor's\ninterface.\n\nModel export in metatensor is based on `PyTorch`_ and `TorchScript`_, so make sure you\nare familiar with both before reading this tutorial!\n\n"
      ]
    },
    {
      "cell_type": "markdown",
      "metadata": {},
      "source": [
        "Let's start by importing things we'll need: ``typing`` for the model type annotations,\n``torch`` itself, the main ``metatensor`` types and classes specific to metatensor\natomistic models:\n\n"
      ]
    },
    {
      "cell_type": "code",
      "execution_count": null,
      "metadata": {
        "collapsed": false
      },
      "outputs": [],
      "source": [
        "import glob\nfrom typing import Dict, List, Optional\n\nimport torch\n\nfrom metatensor.torch import Labels, TensorBlock, TensorMap\nfrom metatensor.torch.atomistic import (\n    MetatensorAtomisticModel,\n    ModelCapabilities,\n    ModelMetadata,\n    ModelOutput,\n    System,\n)"
      ]
    },
    {
      "cell_type": "markdown",
      "metadata": {},
      "source": [
        "## Defining the model\n\nThe model is defined as a class, inheriting from :py:class:`torch.nn.Module`, and\nwith a very specific signature for the ``forward()`` function:\n\n"
      ]
    },
    {
      "cell_type": "code",
      "execution_count": null,
      "metadata": {
        "collapsed": false
      },
      "outputs": [],
      "source": [
        "class MyCustomModel(torch.nn.Module):\n    def forward(\n        self,\n        systems: List[System],\n        outputs: Dict[str, ModelOutput],\n        selected_atoms: Optional[Labels],\n    ) -> Dict[str, TensorMap]:\n        pass"
      ]
    },
    {
      "cell_type": "markdown",
      "metadata": {},
      "source": [
        "Here ``systems`` will be the list of :py:class:`System` (sometimes also called\n*structures*, or *frames*) for which the model should make a prediction. ``outputs``\ndefines what properties should be included in the model output (in case where the\nmodel supports computing more than one property), as well as some options regarding\nhow the properties should be computed in :py:class:`ModelOutput`. ``outputs`` will be\nprovided by whoever is using the model: a simulation engine, yourself later, a\ncoworker, etc.\n\nFinally, ``selected_atoms`` is also set by whoever is using the model, and is either\n``None``, meaning all atoms should be included in the calculation, or a\n:py:class:`metatensor.torch.Labels` object containing two dimensions: ``\"system\"``\nand ``\"atom\"``, with values corresponding to the structure/atoms indexes to include in\nthe calculation. For example when working with additive atom-centered models, only\natoms in ``selected_atoms`` will be used as atomic centers, but all atoms will be\nconsidered when looking for neighbors of the central atoms.\n\n"
      ]
    },
    {
      "cell_type": "markdown",
      "metadata": {},
      "source": [
        "Let's define a model that predict the energy of a system as a sum of single atom\nenergy (for example some isolated atom energy computed with DFT), and completely\nignores the interactions between atoms. Such model can be useful as a baseline model\non top of which more refined models can be trained.\n\n"
      ]
    },
    {
      "cell_type": "code",
      "execution_count": null,
      "metadata": {
        "collapsed": false
      },
      "outputs": [],
      "source": [
        "class SingleAtomEnergy(torch.nn.Module):\n    def __init__(self, energy_by_atom_type: Dict[int, float]):\n        super().__init__()\n        self.energy_by_atom_type = energy_by_atom_type\n\n    def forward(\n        self,\n        systems: List[System],\n        outputs: Dict[str, ModelOutput],\n        selected_atoms: Optional[Labels],\n    ) -> Dict[str, TensorMap]:\n        # if the model user did not request an energy calculation, we have nothing to do\n        if \"energy\" not in outputs:\n            return {}\n\n        # we don't want to worry about selected_atoms yet\n        if selected_atoms is not None:\n            raise NotImplementedError(\"selected_atoms is not implemented\")\n\n        if outputs[\"energy\"].per_atom:\n            raise NotImplementedError(\"per atom energy is not implemented\")\n\n        # compute the energy for each system by adding together the energy for each atom\n        energy = torch.zeros((len(systems), 1), dtype=systems[0].positions.dtype)\n        for i, system in enumerate(systems):\n            for atom_type in system.types:\n                energy[i] += self.energy_by_atom_type[int(atom_type)]\n\n        # add metadata to the output\n        block = TensorBlock(\n            values=energy,\n            samples=Labels(\"system\", torch.arange(len(systems))),\n            components=[],\n            properties=Labels(\"energy\", torch.tensor([[0]])),\n        )\n        return {\n            \"energy\": TensorMap(keys=Labels(\"_\", torch.tensor([[0]])), blocks=[block])\n        }"
      ]
    },
    {
      "cell_type": "markdown",
      "metadata": {},
      "source": [
        "With the class defined, we can now create an instance of the model, specifying the\nper-atom energies we want to use. When dealing with more complex models, this is also\nwhere you would actually train your model to reproduce some target energies, using\nstandard PyTorch tools.\n\n"
      ]
    },
    {
      "cell_type": "code",
      "execution_count": null,
      "metadata": {
        "collapsed": false
      },
      "outputs": [],
      "source": [
        "model = SingleAtomEnergy(\n    energy_by_atom_type={\n        1: -6.492647589968434,\n        6: -38.054950840332474,\n        8: -83.97955098636527,\n    }\n)\n\n# We don't need to train this model since there are no trainable parameters inside. If\n# you are adapting this example to your own models, this is where you would train them!\n\n# optimizer = ...\n# for epoch in range(...):\n#     optimizer.zero_grad()\n#     loss = ...\n#     optimizer.step()"
      ]
    },
    {
      "cell_type": "markdown",
      "metadata": {},
      "source": [
        "## Exporting the model\n\nOnce your model has been trained, we can export it to a model file, that can be used\nto run simulations or make predictions on new systems. This is done with the\n:py:class:`MetatensorAtomisticModel` class, which takes your model and make sure it\nfollows the required interface.\n\nWhen exporting the model, we can define some metadata about this model, so when the\nmodel is shared with others, they still know what this model is and where it comes\nfrom.\n\n"
      ]
    },
    {
      "cell_type": "code",
      "execution_count": null,
      "metadata": {
        "collapsed": false
      },
      "outputs": [],
      "source": [
        "metadata = ModelMetadata(\n    name=\"single-atom-energy\",\n    description=\"a long form description of this specific model\",\n    authors=[\"You the Reader <reader@example.com>\"],\n    references={\n        # you can add references that should be cited when using this model here,\n        # check the documentation for more information\n    },\n)"
      ]
    },
    {
      "cell_type": "markdown",
      "metadata": {},
      "source": [
        "A big part of exporting a model is the definition of the model capabilities, i.e. what\nare the things that this model can do? First we'll need to define which outputs our\nmodel can handle: there is only one, called ``\"energy\"``, which correspond to the\nphysical quantity of energies (``quantity=\"energy\"``). This energy is returned in\nelectronvolt (``units=\"eV\"``); and with the code above it can not be computed\nper-atom, only for the full structure (``per_atom=False``).\n\n"
      ]
    },
    {
      "cell_type": "code",
      "execution_count": null,
      "metadata": {
        "collapsed": false
      },
      "outputs": [],
      "source": [
        "outputs = {\n    \"energy\": ModelOutput(quantity=\"energy\", unit=\"eV\", per_atom=False),\n}"
      ]
    },
    {
      "cell_type": "markdown",
      "metadata": {},
      "source": [
        "In addition to the set of outputs a model can compute, the capabilities also include:\n\n- the set of ``atomic_types`` the model can handle;\n- the ``interaction_range`` of the model, i.e. how far away from one particle the\n  model needs to know about other particles. This is mainly relevant for domain\n  decomposition, and running simulations on multiple nodes;\n- the ``length_unit`` the model expects as input. This applies to the\n  ``interaction_range``, any neighbors list cutoff, the atoms positions and the system\n  cell. If this is set to a non empty string, :py:class:`MetatensorAtomisticModel`\n  will handle the necessary unit conversions for you;\n- the set of ``supported_devices`` on which the model can run. These should be ordered\n  according to the model preference.\n- the dtype (\"float32\" or \"float64\") that the model uses for its inputs and outputs\n\n"
      ]
    },
    {
      "cell_type": "code",
      "execution_count": null,
      "metadata": {
        "collapsed": false
      },
      "outputs": [],
      "source": [
        "capabilities = ModelCapabilities(\n    outputs=outputs,\n    atomic_types=[1, 6, 8],\n    interaction_range=0.0,\n    length_unit=\"Angstrom\",\n    supported_devices=[\"cpu\"],\n    dtype=\"float64\",\n)"
      ]
    },
    {
      "cell_type": "markdown",
      "metadata": {},
      "source": [
        "With the model metadata and capabilities defined, we can now create a wrapper around\nthe model, and export it to a file:\n\n"
      ]
    },
    {
      "cell_type": "code",
      "execution_count": null,
      "metadata": {
        "collapsed": false
      },
      "outputs": [],
      "source": [
        "wrapper = MetatensorAtomisticModel(model.eval(), metadata, capabilities)\nwrapper.export(\"exported-model.pt\")\n\n# the file was created in the current directory\nprint(glob.glob(\"*.pt\"))"
      ]
    },
    {
      "cell_type": "markdown",
      "metadata": {},
      "source": [
        "Now that we have an exported model, the next tutorial will show how you can use such a\nmodel to run `Molecular Dynamics`_ simulation using the Atomic Simulating Environment\n(`ASE`_).\n\n\n\n\n"
      ]
    }
  ],
  "metadata": {
    "kernelspec": {
      "display_name": "Python 3",
      "language": "python",
      "name": "python3"
    },
    "language_info": {
      "codemirror_mode": {
        "name": "ipython",
        "version": 3
      },
      "file_extension": ".py",
      "mimetype": "text/x-python",
      "name": "python",
      "nbconvert_exporter": "python",
      "pygments_lexer": "ipython3",
      "version": "3.12.3"
    }
  },
  "nbformat": 4,
  "nbformat_minor": 0
}