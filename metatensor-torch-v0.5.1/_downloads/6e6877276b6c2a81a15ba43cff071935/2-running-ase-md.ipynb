{
  "cells": [
    {
      "cell_type": "markdown",
      "metadata": {},
      "source": [
        "\n# Running Molecular Dynamics with ASE\n\n.. py:currentmodule:: metatensor.torch.atomistic\n\nThis tutorial shows how to use metatensor atomistic models to run Molecular Dynamics\n(MD) simulation using ASE. ASE is not the only way to run MD with metatensor models, but\nit is very easy to setup and use.\n\n.. TODO: once we have more MD engine, add link to their doc here\n"
      ]
    },
    {
      "cell_type": "code",
      "execution_count": null,
      "metadata": {
        "collapsed": false
      },
      "outputs": [],
      "source": [
        "from typing import Dict, List, Optional\n\n# tools to run the simulation\nimport ase.build\nimport ase.md\nimport ase.md.velocitydistribution\nimport ase.units\n\n# tools for visualization\nimport ase.visualize.plot\nimport matplotlib.pyplot as plt\n\n# the usuals suspects\nimport numpy as np\nimport torch\n\nfrom metatensor.torch import Labels, TensorBlock, TensorMap\nfrom metatensor.torch.atomistic import (\n    MetatensorAtomisticModel,\n    ModelCapabilities,\n    ModelMetadata,\n    ModelOutput,\n    System,\n)\n\n# Integration with ASE calculator for metatensor atomistic models\nfrom metatensor.torch.atomistic.ase_calculator import MetatensorCalculator"
      ]
    },
    {
      "cell_type": "markdown",
      "metadata": {},
      "source": [
        "## The energy model\n\nTo run simulations, we'll need a model. For simplicity and keeping this tutorial\nshort, we'll use a model for `Einstein's solid`_, where all atoms oscillate around\ntheir equilibrium position as harmonic oscillators, but don't interact with one\nanother. The energy of each atoms is given by:\n\n\\begin{align}E_i = k * \\left(\\vec{r_i} - \\vec{r_i}^0\\right)^2,\\end{align}\n\nwhere $k$ is a harmonic force constant, $\\vec{r_i}$ the position of atom\n$i$ and $\\vec{r_i}^0$ the position of atom $i$ at equilibrium. The\nenergy of the whole system is then\n\n\\begin{align}E = \\sum_i E_i.\\end{align}\n\n\nLet's implement this model! You can check the `atomistic-tutorial-export`\ntutorial for more information on how to define your own custom models.\n\n"
      ]
    },
    {
      "cell_type": "code",
      "execution_count": null,
      "metadata": {
        "collapsed": false
      },
      "outputs": [],
      "source": [
        "class HarmonicModel(torch.nn.Module):\n    def __init__(self, force_constant: float, equilibrium_positions: torch.Tensor):\n        \"\"\"Create an ``HarmonicModel``.\n\n        :param force_constant: force constant, in ``energy unit / (length unit)^2``\n        :param equilibrium_positions: torch tensor with shape ``n x 3``, containing the\n            equilibrium positions of all atoms\n        \"\"\"\n        super().__init__()\n        assert force_constant > 0\n        self.force_constant = force_constant\n        self.equilibrium_positions = equilibrium_positions\n\n    def forward(\n        self,\n        systems: List[System],\n        outputs: Dict[str, ModelOutput],\n        selected_atoms: Optional[Labels],\n    ) -> Dict[str, TensorMap]:\n        # if the model user did not request an energy calculation, we have nothing to do\n        if \"energy\" not in outputs:\n            return {}\n\n        # we don't want to worry about selected_atoms yet\n        if selected_atoms is not None:\n            raise NotImplementedError(\"selected_atoms is not implemented\")\n\n        if outputs[\"energy\"].per_atom:\n            raise NotImplementedError(\"per atom energy is not implemented\")\n\n        # compute the energy for each system by adding together the energy for each atom\n        energy = torch.zeros((len(systems), 1), dtype=systems[0].positions.dtype)\n        for i, system in enumerate(systems):\n            assert len(system) == self.equilibrium_positions.shape[0]\n            r0 = self.equilibrium_positions\n            energy[i] += torch.sum(self.force_constant * (system.positions - r0) ** 2)\n\n        # add metadata to the output\n        block = TensorBlock(\n            values=energy,\n            samples=Labels(\"system\", torch.arange(len(systems)).reshape(-1, 1)),\n            components=[],\n            properties=Labels(\"energy\", torch.tensor([[0]])),\n        )\n        return {\n            \"energy\": TensorMap(keys=Labels(\"_\", torch.tensor([[0]])), blocks=[block])\n        }"
      ]
    },
    {
      "cell_type": "markdown",
      "metadata": {},
      "source": [
        "## Initial simulation state\n\nNow that we have a model for the energy of our system, let's create some initial\nsimulation state. We'll build a 3x3x3 super cell of diamond carbon. In pactise, you\ncould also read the initial state from a file.\n\n"
      ]
    },
    {
      "cell_type": "code",
      "execution_count": null,
      "metadata": {
        "collapsed": false
      },
      "outputs": [],
      "source": [
        "primitive = ase.build.bulk(name=\"C\", crystalstructure=\"diamond\", a=3.567)\n\nax = ase.visualize.plot.plot_atoms(primitive, radii=0.5)\nax.set_xlabel(\"$\\\\AA$\")\nax.set_ylabel(\"$\\\\AA$\")\nplt.show()"
      ]
    },
    {
      "cell_type": "markdown",
      "metadata": {},
      "source": [
        "And now let's make a super cell with this\n\n"
      ]
    },
    {
      "cell_type": "code",
      "execution_count": null,
      "metadata": {
        "collapsed": false
      },
      "outputs": [],
      "source": [
        "atoms = ase.build.make_supercell(primitive, 3 * np.eye(3))\n\nax = ase.visualize.plot.plot_atoms(atoms, radii=0.5)\nax.set_xlabel(\"$\\\\AA$\")\nax.set_ylabel(\"$\\\\AA$\")\n\nplt.show()"
      ]
    },
    {
      "cell_type": "markdown",
      "metadata": {},
      "source": [
        "We'll also need to initialize the velocities of the atoms to match our simulation\ntemperature.\n\n"
      ]
    },
    {
      "cell_type": "code",
      "execution_count": null,
      "metadata": {
        "collapsed": false
      },
      "outputs": [],
      "source": [
        "# The atoms start with zero velocities, hence zero kinetic energy and zero temperature\nprint(\"before:\")\nprint(\"kinetic energy =\", atoms.get_kinetic_energy(), \"eV\")\nprint(\"temperature =\", atoms.get_temperature(), \"K\")\n\nase.md.velocitydistribution.MaxwellBoltzmannDistribution(atoms, temperature_K=300)\nprint(\"\\nafter:\")\nprint(\"kinetic energy =\", atoms.get_kinetic_energy(), \"eV\")\nprint(\"temperature =\", atoms.get_temperature(), \"K\")"
      ]
    },
    {
      "cell_type": "markdown",
      "metadata": {},
      "source": [
        "## Running the simulation\n\nThe final step to run the simulation is to register our model as the energy calculator\nfor these ``atoms``. This is the job of\n:py:class:`ase_calculator.MetatensorCalculator`, which takes either an instance of\n:py:class:`MetatensorAtomisticModel` or the path to a pre-exported model, and allow to\nuse it to compute the energy, forces and stress acting on a system.\n\n"
      ]
    },
    {
      "cell_type": "code",
      "execution_count": null,
      "metadata": {
        "collapsed": false
      },
      "outputs": [],
      "source": [
        "# define & wrap the model, using the initial positions as equilibrium positions\nmodel = HarmonicModel(\n    force_constant=3.14159265358979323846,\n    equilibrium_positions=torch.tensor(atoms.positions),\n)\n\ncapabilities = ModelCapabilities(\n    outputs={\n        \"energy\": ModelOutput(quantity=\"energy\", unit=\"eV\", per_atom=False),\n    },\n    atomic_types=[6],\n    interaction_range=0.0,\n    length_unit=\"Angstrom\",\n    supported_devices=[\"cpu\"],\n    dtype=\"float32\",\n)\n\n# we don't want to bother with model metadata, so we define it as empty\nmetadata = ModelMetadata()\nwrapper = MetatensorAtomisticModel(model.eval(), metadata, capabilities)\n\n# Use the wrapped model as the calculator for these atoms\natoms.calc = MetatensorCalculator(wrapper)"
      ]
    },
    {
      "cell_type": "markdown",
      "metadata": {},
      "source": [
        "We'll run the simulation in the constant volume/temperature thermodynamics ensemble\n(NVT or Canonical ensemble), using a Langevin thermostat for time integration. Please\nrefer to the corresponding documentation (:py:class:`ase.md.langevin.Langevin`) for\nmore information!\n\n"
      ]
    },
    {
      "cell_type": "code",
      "execution_count": null,
      "metadata": {
        "collapsed": false
      },
      "outputs": [],
      "source": [
        "integrator = ase.md.Langevin(\n    atoms,\n    timestep=1.0 * ase.units.fs,\n    temperature_K=300,\n    friction=0.1 / ase.units.fs,\n)\n\n# collect some data during the simulation\ntrajectory = []\npotential_energy = []\nkinetic_energy = []\ntotal_energy = []\ntemperature = []\n\nfor step in range(800):\n    # run a single simulation step\n    integrator.run(1)\n\n    # collect data about the simulation\n    potential_energy.append(atoms.get_potential_energy())\n    kinetic_energy.append(atoms.get_kinetic_energy())\n    total_energy.append(atoms.get_total_energy())\n    temperature.append(atoms.get_temperature())\n\n    if step % 10 == 0:\n        trajectory.append(atoms.copy())"
      ]
    },
    {
      "cell_type": "markdown",
      "metadata": {},
      "source": [
        "We can use ASE and matplotlib to visualize the trajectory\n\n"
      ]
    },
    {
      "cell_type": "code",
      "execution_count": null,
      "metadata": {
        "collapsed": false
      },
      "outputs": [],
      "source": [
        "animation = ase.visualize.plot.animate(\n    trajectory, radii=0.5, interval=100, save_count=None\n)\nplt.show()"
      ]
    },
    {
      "cell_type": "markdown",
      "metadata": {},
      "source": [
        "We can also look at the time evolution of some physical constants for our system:\n\n"
      ]
    },
    {
      "cell_type": "code",
      "execution_count": null,
      "metadata": {
        "collapsed": false
      },
      "outputs": [],
      "source": [
        "fig, ax = plt.subplots(1, 2, figsize=(8, 5))\n\nax[0].plot(range(800), potential_energy, label=\"potential energy\")\nax[0].plot(range(800), kinetic_energy, label=\"kinetic energy\")\nax[0].plot(range(800), total_energy, label=\"total energy\")\nax[0].legend()\nax[0].set_xlabel(\"t / fs\")\nax[0].set_ylabel(\"energy / eV\")\n\nax[1].plot(range(800), temperature)\nax[1].set_xlabel(\"t / fs\")\nax[1].set_ylabel(\"temperature / K\")\n\nfig.tight_layout()\nfig.show()"
      ]
    },
    {
      "cell_type": "markdown",
      "metadata": {},
      "source": [
        "## Using a pre-exported model\n\nAs already mentioned, :py:class:`ase_calculator.MetatensorCalculator` also work with a\npre-exported model, meaning you can also run simulations without defining or\nre-training a model:\n\n"
      ]
    },
    {
      "cell_type": "code",
      "execution_count": null,
      "metadata": {
        "collapsed": false
      },
      "outputs": [],
      "source": [
        "wrapper.export(\"exported-model.pt\")\n\natoms.calc = MetatensorCalculator(\"exported-model.pt\")\n\nprint(atoms.get_potential_energy())\nintegrator.run(10)"
      ]
    }
  ],
  "metadata": {
    "kernelspec": {
      "display_name": "Python 3",
      "language": "python",
      "name": "python3"
    },
    "language_info": {
      "codemirror_mode": {
        "name": "ipython",
        "version": 3
      },
      "file_extension": ".py",
      "mimetype": "text/x-python",
      "name": "python",
      "nbconvert_exporter": "python",
      "pygments_lexer": "ipython3",
      "version": "3.12.3"
    }
  },
  "nbformat": 4,
  "nbformat_minor": 0
}